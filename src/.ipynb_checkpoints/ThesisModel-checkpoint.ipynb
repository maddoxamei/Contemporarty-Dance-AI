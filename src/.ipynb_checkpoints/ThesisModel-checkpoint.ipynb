{
 "cells": [
  {
   "cell_type": "markdown",
   "metadata": {},
   "source": [
    "# Dependancies"
   ]
  },
  {
   "cell_type": "code",
   "execution_count": 1,
   "metadata": {},
   "outputs": [
    {
     "ename": "SyntaxError",
     "evalue": "non-default argument follows default argument (plot.py, line 26)",
     "output_type": "error",
     "traceback": [
      "Traceback \u001b[0;36m(most recent call last)\u001b[0m:\n",
      "  File \u001b[1;32m\"/opt/anaconda3/lib/python3.7/site-packages/IPython/core/interactiveshell.py\"\u001b[0m, line \u001b[1;32m3331\u001b[0m, in \u001b[1;35mrun_code\u001b[0m\n    exec(code_obj, self.user_global_ns, self.user_ns)\n",
      "  File \u001b[1;32m\"<ipython-input-1-a27413c52dde>\"\u001b[0m, line \u001b[1;32m2\u001b[0m, in \u001b[1;35m<module>\u001b[0m\n    import classifier, generator, utils #import packages cooresponding to the classification and dance generation aspects and the data/misc helper functions, respectively\n",
      "  File \u001b[1;32m\"/Akamai/MLDance/Contemporarty-Dance-AI/src/generator/__init__.py\"\u001b[0m, line \u001b[1;32m6\u001b[0m, in \u001b[1;35m<module>\u001b[0m\n    from .training import *\n",
      "  File \u001b[1;32m\"/Akamai/MLDance/Contemporarty-Dance-AI/src/generator/training.py\"\u001b[0m, line \u001b[1;32m5\u001b[0m, in \u001b[1;35m<module>\u001b[0m\n    from utils import get_unique_dance_names, get_sample_data, write, progressbar, get_save_path\n",
      "\u001b[0;36m  File \u001b[0;32m\"/Akamai/MLDance/Contemporarty-Dance-AI/src/utils/__init__.py\"\u001b[0;36m, line \u001b[0;32m6\u001b[0;36m, in \u001b[0;35m<module>\u001b[0;36m\u001b[0m\n\u001b[0;31m    from .plot import *\u001b[0m\n",
      "\u001b[0;36m  File \u001b[0;32m\"/Akamai/MLDance/Contemporarty-Dance-AI/src/utils/plot.py\"\u001b[0;36m, line \u001b[0;32m26\u001b[0m\n\u001b[0;31m    def plot_history_individual(history_dict, title, base_label, validation_label='validation', graphics_dir, save_figure=False):\u001b[0m\n\u001b[0m                               ^\u001b[0m\n\u001b[0;31mSyntaxError\u001b[0m\u001b[0;31m:\u001b[0m non-default argument follows default argument\n"
     ]
    }
   ],
   "source": [
    "from lib import * #import dependancies and global_variables\n",
    "import classifier, generator, utils #import packages cooresponding to the classification and dance generation aspects and the data/misc helper functions, respectively"
   ]
  },
  {
   "cell_type": "markdown",
   "metadata": {},
   "source": [
    "# Data\n",
    "\n",
    "**Aquisition**\\\n",
    "To keep the scope of the project manageable, the number of dance genres used for testing and generation was limited to one: contemporary dance. The motion capture (MoCab) data were obtained from the [Dance Motion Capture Database][1] of the University of Cyprus, an online resource hosting a digital archive of dances captured using state-of-the-art technology. More information can be found by visiting their [website][1]. \n",
    "\n",
    "*Each dance is recorded and labeled with an emotion*. This emotion tag was significant in determining sentiment (attitude) later.\n",
    "\n",
    "**Data Exploration**\\\n",
    "[bvh](https://pypi.org/project/bvh/) is a useful tool for exploring motion file data from BVH files through code without any data conversion\n",
    "\n",
    "**File Conversion**\\\n",
    "[bvhtoolbox][2] and [bvh-converter][3] were used for the conversion process.\n",
    "\n",
    "**BVH to CSV**\\\n",
    "Although both libraries support bvh to csv conversion, [bvh-converter][3] provided an optimized method thereby making the conversion process faster.\\\n",
    "[Bvhtoolbox][2] was used to generate a hierarchy file for each unique dancer.\n",
    "\n",
    "**CSV to BVH**\\\n",
    "[bvhtoolbox][2] was used to convert the coreographed dance from a csv file representation to a BVH file for visualization in [Autodesk Motion Builder](https://www.autodesk.com/products/motionbuilder/overview?term=1-YEAR&support=null).\\\n",
    "The particularities of the `csv2bvh <hierarchy_file>.csv <position_file>.csv <rotation_file>.csv` require specific formating and file organization:\n",
    "- Order of the joints channels in the rotation file *must* coorespond to the hierarchal order as defined in the given file\n",
    "- The time feature in the positional/rotational file *must* be all lowercase\n",
    "- The rotational file must contain every joint listed in the hiearchal file (though the postional file need only the root channels).\n",
    "\n",
    "[1]:http://dancedb.cs.ucy.ac.cy\n",
    "[2]:https://pypi.org/project/bvhtoolbox/\n",
    "[3]:https://pypi.org/project/bvh-converter/"
   ]
  },
  {
   "cell_type": "markdown",
   "metadata": {},
   "source": [
    "# Variables\n",
    "\n",
    "Most variables are stored in the lib package and are global in nature.\\\n",
    "The following two segments are for determining what to run in the **notebook** and cooresponding **python file**, *respectively*."
   ]
  },
  {
   "cell_type": "code",
   "execution_count": null,
   "metadata": {},
   "outputs": [],
   "source": [
    "# Run in Jupyter Notebook\n",
    "class Args():\n",
    "    def __init__(self):\n",
    "        self.train = True\n",
    "        self.evaluate = True\n",
    "        self.predict = True\n",
    "args = Args()"
   ]
  },
  {
   "cell_type": "raw",
   "metadata": {},
   "source": [
    "\"\"\" This block is un-runnable in the Jupyter Notebook. Do NOT change this to a code block, otherwise an error will be thrown\n",
    "    This allows you to determine what to run when running the file in the command line as a python script\n",
    "\"\"\"\n",
    "parser = argparse.ArgumentParser()\n",
    "\n",
    "#store_true: default is False, sets the value to True if the respective tag is called\n",
    "#store_false: default is True, sets the value to False if the respective tag is called\n",
    "parser.add_argument('--train', action=\"store_true\",\n",
    "                   help='Train on dataset')\n",
    "parser.add_argument('--evaluate', action=\"store_true\",\n",
    "                   help='Run an evaluation on the trained model')\n",
    "parser.add_argument('--predict', action=\"store_true\",\n",
    "                   help='Generate a dance using the trained model')\n",
    "\n",
    "args = parser.parse_args()"
   ]
  },
  {
   "cell_type": "markdown",
   "metadata": {},
   "source": [
    "# Major Imported Function Descriptions"
   ]
  },
  {
   "cell_type": "markdown",
   "metadata": {},
   "source": [
    "**General**\n",
    "\n",
    "`utils.create_dir(path)`\\\n",
    "&nbsp;&nbsp;&nbsp;&nbsp;&nbsp;&nbsp;&nbsp;&nbsp;Create the cooresponding directory files for the given path if it does not yet exist.\\\n",
    "&nbsp;&nbsp;&nbsp;&nbsp;&nbsp;&nbsp;&nbsp;&nbsp;Returns the created directory filepath as a *str* \\\n",
    "`utils.write(output=\"\", file=sys.stdout)`\\\n",
    "&nbsp;&nbsp;&nbsp;&nbsp;&nbsp;&nbsp;&nbsp;&nbsp;Display a string to an output stream. This allows for status updates to be outputted to a file. Default is a console log.\\"
   ]
  },
  {
   "cell_type": "markdown",
   "metadata": {},
   "source": [
    "**Set-Up Model**\n",
    "\n",
    "`generator.establish_model(...)`\\\n",
    "&nbsp;&nbsp;&nbsp;&nbsp;&nbsp;&nbsp;&nbsp;&nbsp;Establish the architecture (layers and how they are connected) of the model with freshly initialized state for the weights. There is NO compilation information.\\\n",
    "&nbsp;&nbsp;&nbsp;&nbsp;&nbsp;&nbsp;&nbsp;&nbsp;Returns the model's architecture as a *keras.Model* \\\n",
    "`generator.compile_model(model, optimizer, loss)`\\\n",
    "&nbsp;&nbsp;&nbsp;&nbsp;&nbsp;&nbsp;&nbsp;&nbsp;Compile the given model so that it is ready for training and/or prediction/evaluation\\\n",
    "&nbsp;&nbsp;&nbsp;&nbsp;&nbsp;&nbsp;&nbsp;&nbsp;Returns the compiled model as a *keras.Model* \\\n",
    "`generator.model_summary(model)`\\\n",
    "&nbsp;&nbsp;&nbsp;&nbsp;&nbsp;&nbsp;&nbsp;&nbsp;Convert the model architecture summary to a writeable format\\\n",
    "&nbsp;&nbsp;&nbsp;&nbsp;&nbsp;&nbsp;&nbsp;&nbsp;Returns the visual diagram of the model as a *[str]* \\\n",
    "\n",
    "**Load Model**\n",
    "\n",
    "`generator.load_architecture(file)`\\\n",
    "&nbsp;&nbsp;&nbsp;&nbsp;&nbsp;&nbsp;&nbsp;&nbsp;Load the architecture (layers and how they are connected). Model can be created with a freshly initialized state for the weights. There is NO compilation information in this savefile.\\\n",
    "&nbsp;&nbsp;&nbsp;&nbsp;&nbsp;&nbsp;&nbsp;&nbsp;Returns an uncompiled model as a *keras.Model* \\\n",
    "`generator.load_trained_model(file)`\\\n",
    "&nbsp;&nbsp;&nbsp;&nbsp;&nbsp;&nbsp;&nbsp;&nbsp;Load the pre-trained model. Compiled when loaded so training/prediction/evaluation can be restarted right where the model left off.\\\n",
    "&nbsp;&nbsp;&nbsp;&nbsp;&nbsp;&nbsp;&nbsp;&nbsp;Returns the model from the file pre-compiled as a *keras.Model* \\"
   ]
  },
  {
   "cell_type": "markdown",
   "metadata": {},
   "source": [
    "**Task Related**\n",
    "\n",
    "`generator.train_model(model, out_file)`\\\n",
    "&nbsp;&nbsp;&nbsp;&nbsp;&nbsp;&nbsp;&nbsp;&nbsp;Trains the model with the dance data.\\\n",
    "&nbsp;&nbsp;&nbsp;&nbsp;&nbsp;&nbsp;&nbsp;&nbsp;The History object's History.history attribute is a record of training loss values and metrics values at successive epochs, as well as cooresponding validation values (if applicable).\\\n",
    "&nbsp;&nbsp;&nbsp;&nbsp;&nbsp;&nbsp;&nbsp;&nbsp;Returns the class containing the training metric information, the trained model, and the comprehensive evaluation data as a *tuple* \\\n",
    "`generator.benchmark(model, eval_X, eval_Y, out_file)`\\\n",
    "&nbsp;&nbsp;&nbsp;&nbsp;&nbsp;&nbsp;&nbsp;&nbsp;Runs the evaluation data through the model to obtain the overall metrics on data the model did not train on\\\n",
    "&nbsp;&nbsp;&nbsp;&nbsp;&nbsp;&nbsp;&nbsp;&nbsp;Returns the training metric information as a *dict* \\\n",
    "`generator.generate_dance(model, frames, out_file = out_file)`\\\n",
    "&nbsp;&nbsp;&nbsp;&nbsp;&nbsp;&nbsp;&nbsp;&nbsp;Generate a dance sequence with the given model"
   ]
  },
  {
   "cell_type": "markdown",
   "metadata": {},
   "source": [
    "# AI Functions"
   ]
  },
  {
   "cell_type": "code",
   "execution_count": null,
   "metadata": {},
   "outputs": [],
   "source": [
    "def train_generator(out_file=sys.stdout):\n",
    "    \"\"\" Trains the model with the dance data.\n",
    "        The History object's History.history attribute is a record of training loss values and metrics values at successive epochs, \n",
    "            as well as cooresponding validation values (if applicable).  \n",
    "\n",
    "    :param out_file: what to display/write the status information to\n",
    "    :type output stream\n",
    "    :return: the class containing the training metric information, the trained model, and the comprehensive evaluation data\n",
    "    :type tuple\n",
    "    \"\"\"\n",
    "    model = generator.establish_model(units, look_back, n_features, layer_activation, recurrent_activation, weight_initializer, recurrent_initializer, bias_initializer, output_activation)\n",
    "    generator.save_architecture(model, architecture_file)\n",
    "    model = generator.compile_model(model, optimizer, loss_function, metrics)\n",
    "    utils.write(generator.model_summary(model), out_file)\n",
    "    print(generator.model_summary(model))\n",
    "    return generator.train_model(model, out_file)\n",
    "\n",
    "def evaluate_generator(model, eval_X, eval_Y, save_location, out_file):\n",
    "    if(not model):\n",
    "        #loads the \"best\" model\n",
    "        model = generator.load_trained_model(architecture_file, logs_save_dir)\n",
    "        model = generator.compile_model(model, optimizer, loss_function, metrics)\n",
    "        utils.write(generator.model_summary(model), out_file)\n",
    "        print(generator.model_summary(model))\n",
    "        eval_X = np.load(evaluation_filepath+\"_X.npy\")\n",
    "        eval_Y = np.load(evaluation_filepath+\"_Y.npy\")\n",
    "    return generator.benchmark(model, eval_X, eval_Y, out_file)\n",
    "    \n",
    "def choreograph_dance(model, save_location, out_file):\n",
    "    if(not model):\n",
    "        #loads the \"best\" model\n",
    "        model = generator.load_trained_model(architecture_file, logs_save_dir)\n",
    "        model = generator.compile_model(model, optimizer, loss_function, metrics)\n",
    "        utils.write(generator.model_summary(model), out_file)\n",
    "        print(generator.model_summary(model))\n",
    "    generator.generate_dance(model, frames, out_file = out_file)"
   ]
  },
  {
   "cell_type": "markdown",
   "metadata": {},
   "source": [
    "# Run Script"
   ]
  },
  {
   "cell_type": "code",
   "execution_count": null,
   "metadata": {},
   "outputs": [],
   "source": [
    "def main(save_location, out_file=sys.stdout):\n",
    "    \"\"\" Driver function to control what is run and when if this is the main python script being ran.\n",
    "        As the project was developed in a jupyter notebook, everything is self-contained in the main file.\n",
    "        Any expansion, however, would be able to use the predefined classes and functions for whatever purpose without running anything.\n",
    "    \"\"\"\n",
    "    history, model, eval_X, eval_Y = None, None, None, None\n",
    "\n",
    "    if(not args.train and not args.evaluate and not args.predict):\n",
    "        print(\"Type -h and get a list of possible tasks. You may select multiple.\")\n",
    "    else:\n",
    "        if(args.train):\n",
    "            History, model, eval_X, eval_Y = train_generator(out_file)\n",
    "            utils.plot_history_individual(History.history, 'Training History', 'train', graphics_dir, save_figure=True)\n",
    "            utils.plot_history_grouped(History.history, 'Training History (Group {})', graphics_dir, save_figures=True)\n",
    "        if(args.evaluate):\n",
    "            _hist, _model = evaluate_generator(model, eval_X, eval_Y, save_location, out_file)\n",
    "            history = _hist\n",
    "            model = _model\n",
    "        if(args.predict):\n",
    "            choreograph_dance(model, save_location, out_file)\n",
    "        \n",
    "if __name__ == \"__main__\":\n",
    "    utils.create_dir(np_save_dir)\n",
    "    save_location = utils.create_dir(logs_save_dir)\n",
    "    out_file = open(os.path.join(save_location, \"outfile.txt\"), \"w\")\n",
    "    main(save_location, out_file)\n",
    "    out_file.close()"
   ]
  },
  {
   "cell_type": "code",
   "execution_count": null,
   "metadata": {},
   "outputs": [],
   "source": []
  }
 ],
 "metadata": {
  "kernelspec": {
   "display_name": "Python 3",
   "language": "python",
   "name": "python3"
  },
  "language_info": {
   "codemirror_mode": {
    "name": "ipython",
    "version": 3
   },
   "file_extension": ".py",
   "mimetype": "text/x-python",
   "name": "python",
   "nbconvert_exporter": "python",
   "pygments_lexer": "ipython3",
   "version": "3.7.6"
  }
 },
 "nbformat": 4,
 "nbformat_minor": 4
}
