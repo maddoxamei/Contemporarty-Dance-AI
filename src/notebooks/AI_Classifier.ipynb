{
 "cells": [
  {
   "cell_type": "code",
   "execution_count": 1,
   "metadata": {},
   "outputs": [],
   "source": [
    "#Importing required packages.\n",
    "import pandas as pd\n",
    "import seaborn as sns\n",
    "import matplotlib.pyplot as plt\n",
    "#from sklearn.linear_model import SGDClassifier\n",
    "from sklearn.metrics import confusion_matrix, classification_report\n",
    "from sklearn.preprocessing import StandardScaler, LabelEncoder\n",
    "from sklearn.model_selection import train_test_split\n",
    "%matplotlib inline"
   ]
  },
  {
   "cell_type": "code",
   "execution_count": 21,
   "metadata": {},
   "outputs": [],
   "source": [
    "#Loading dataset\n",
    "source_dir = '/Akamai/MLDance/data/CSV/Pre-Processed/Combined/'\n",
    "source_dir = '../../../data/CSV/Pre-Processed/Combined/'\n",
    "raw_data = pd.read_csv(source_dir+'_comprehensive_.csv')"
   ]
  },
  {
   "cell_type": "code",
   "execution_count": 22,
   "metadata": {},
   "outputs": [
    {
     "data": {
      "text/html": [
       "<div>\n",
       "<style scoped>\n",
       "    .dataframe tbody tr th:only-of-type {\n",
       "        vertical-align: middle;\n",
       "    }\n",
       "\n",
       "    .dataframe tbody tr th {\n",
       "        vertical-align: top;\n",
       "    }\n",
       "\n",
       "    .dataframe thead th {\n",
       "        text-align: right;\n",
       "    }\n",
       "</style>\n",
       "<table border=\"1\" class=\"dataframe\">\n",
       "  <thead>\n",
       "    <tr style=\"text-align: right;\">\n",
       "      <th></th>\n",
       "      <th>Time</th>\n",
       "      <th>Hips.X</th>\n",
       "      <th>Hips.Y</th>\n",
       "      <th>Hips.Z</th>\n",
       "      <th>Spine.X</th>\n",
       "      <th>Spine.Y</th>\n",
       "      <th>Spine.Z</th>\n",
       "      <th>Spine1.X</th>\n",
       "      <th>Spine1.Y</th>\n",
       "      <th>Spine1.Z</th>\n",
       "      <th>...</th>\n",
       "      <th>LeftToeBase.X.1</th>\n",
       "      <th>LeftToeBase.Y.1</th>\n",
       "      <th>LeftToeBase.Z.1</th>\n",
       "      <th>LeftToeBaseEnd.X.1</th>\n",
       "      <th>LeftToeBaseEnd.Y.1</th>\n",
       "      <th>LeftToeBaseEnd.Z.1</th>\n",
       "      <th>Hips.Pos.X.1</th>\n",
       "      <th>Hips.Pos.Y.1</th>\n",
       "      <th>Hips.Pos.Z.1</th>\n",
       "      <th>Sentiment.1</th>\n",
       "    </tr>\n",
       "  </thead>\n",
       "  <tbody>\n",
       "    <tr>\n",
       "      <td>0</td>\n",
       "      <td>0.000185</td>\n",
       "      <td>0.473493</td>\n",
       "      <td>-0.500793</td>\n",
       "      <td>-0.500888</td>\n",
       "      <td>0.035260</td>\n",
       "      <td>-0.498380</td>\n",
       "      <td>-0.000132</td>\n",
       "      <td>9.304833e-08</td>\n",
       "      <td>-1.371683e-08</td>\n",
       "      <td>0.078843</td>\n",
       "      <td>...</td>\n",
       "      <td>0.0</td>\n",
       "      <td>0.0</td>\n",
       "      <td>0.0</td>\n",
       "      <td>0.0</td>\n",
       "      <td>0.0</td>\n",
       "      <td>0.0</td>\n",
       "      <td>-0.001771</td>\n",
       "      <td>0.0021</td>\n",
       "      <td>-0.005172</td>\n",
       "      <td>1</td>\n",
       "    </tr>\n",
       "    <tr>\n",
       "      <td>1</td>\n",
       "      <td>0.000370</td>\n",
       "      <td>0.473607</td>\n",
       "      <td>-0.500925</td>\n",
       "      <td>-0.500863</td>\n",
       "      <td>0.035258</td>\n",
       "      <td>-0.498338</td>\n",
       "      <td>-0.000135</td>\n",
       "      <td>-8.163667e-07</td>\n",
       "      <td>-1.313344e-06</td>\n",
       "      <td>0.078843</td>\n",
       "      <td>...</td>\n",
       "      <td>0.0</td>\n",
       "      <td>0.0</td>\n",
       "      <td>0.0</td>\n",
       "      <td>0.0</td>\n",
       "      <td>0.0</td>\n",
       "      <td>0.0</td>\n",
       "      <td>-0.004336</td>\n",
       "      <td>0.0034</td>\n",
       "      <td>-0.008922</td>\n",
       "      <td>1</td>\n",
       "    </tr>\n",
       "    <tr>\n",
       "      <td>2</td>\n",
       "      <td>0.000556</td>\n",
       "      <td>0.473662</td>\n",
       "      <td>-0.501599</td>\n",
       "      <td>-0.500165</td>\n",
       "      <td>0.035264</td>\n",
       "      <td>-0.498466</td>\n",
       "      <td>-0.000165</td>\n",
       "      <td>-1.050650e-04</td>\n",
       "      <td>-1.490489e-04</td>\n",
       "      <td>0.078843</td>\n",
       "      <td>...</td>\n",
       "      <td>0.0</td>\n",
       "      <td>0.0</td>\n",
       "      <td>0.0</td>\n",
       "      <td>0.0</td>\n",
       "      <td>0.0</td>\n",
       "      <td>0.0</td>\n",
       "      <td>-0.003222</td>\n",
       "      <td>-0.0063</td>\n",
       "      <td>-0.004647</td>\n",
       "      <td>1</td>\n",
       "    </tr>\n",
       "    <tr>\n",
       "      <td>3</td>\n",
       "      <td>0.000741</td>\n",
       "      <td>0.473804</td>\n",
       "      <td>-0.501042</td>\n",
       "      <td>-0.500806</td>\n",
       "      <td>0.035264</td>\n",
       "      <td>-0.498479</td>\n",
       "      <td>-0.000177</td>\n",
       "      <td>-1.424917e-04</td>\n",
       "      <td>-1.908206e-04</td>\n",
       "      <td>0.078843</td>\n",
       "      <td>...</td>\n",
       "      <td>0.0</td>\n",
       "      <td>0.0</td>\n",
       "      <td>0.0</td>\n",
       "      <td>0.0</td>\n",
       "      <td>0.0</td>\n",
       "      <td>0.0</td>\n",
       "      <td>-0.002597</td>\n",
       "      <td>-0.0015</td>\n",
       "      <td>-0.008847</td>\n",
       "      <td>1</td>\n",
       "    </tr>\n",
       "    <tr>\n",
       "      <td>4</td>\n",
       "      <td>0.000926</td>\n",
       "      <td>0.473839</td>\n",
       "      <td>-0.501317</td>\n",
       "      <td>-0.500656</td>\n",
       "      <td>0.035263</td>\n",
       "      <td>-0.498459</td>\n",
       "      <td>-0.000209</td>\n",
       "      <td>-2.114594e-04</td>\n",
       "      <td>-2.283817e-04</td>\n",
       "      <td>0.078819</td>\n",
       "      <td>...</td>\n",
       "      <td>0.0</td>\n",
       "      <td>0.0</td>\n",
       "      <td>0.0</td>\n",
       "      <td>0.0</td>\n",
       "      <td>0.0</td>\n",
       "      <td>0.0</td>\n",
       "      <td>0.001094</td>\n",
       "      <td>0.0049</td>\n",
       "      <td>-0.001354</td>\n",
       "      <td>1</td>\n",
       "    </tr>\n",
       "  </tbody>\n",
       "</table>\n",
       "<p>5 rows × 412 columns</p>\n",
       "</div>"
      ],
      "text/plain": [
       "       Time    Hips.X    Hips.Y    Hips.Z   Spine.X   Spine.Y   Spine.Z  \\\n",
       "0  0.000185  0.473493 -0.500793 -0.500888  0.035260 -0.498380 -0.000132   \n",
       "1  0.000370  0.473607 -0.500925 -0.500863  0.035258 -0.498338 -0.000135   \n",
       "2  0.000556  0.473662 -0.501599 -0.500165  0.035264 -0.498466 -0.000165   \n",
       "3  0.000741  0.473804 -0.501042 -0.500806  0.035264 -0.498479 -0.000177   \n",
       "4  0.000926  0.473839 -0.501317 -0.500656  0.035263 -0.498459 -0.000209   \n",
       "\n",
       "       Spine1.X      Spine1.Y  Spine1.Z  ...  LeftToeBase.X.1  \\\n",
       "0  9.304833e-08 -1.371683e-08  0.078843  ...              0.0   \n",
       "1 -8.163667e-07 -1.313344e-06  0.078843  ...              0.0   \n",
       "2 -1.050650e-04 -1.490489e-04  0.078843  ...              0.0   \n",
       "3 -1.424917e-04 -1.908206e-04  0.078843  ...              0.0   \n",
       "4 -2.114594e-04 -2.283817e-04  0.078819  ...              0.0   \n",
       "\n",
       "   LeftToeBase.Y.1  LeftToeBase.Z.1  LeftToeBaseEnd.X.1  LeftToeBaseEnd.Y.1  \\\n",
       "0              0.0              0.0                 0.0                 0.0   \n",
       "1              0.0              0.0                 0.0                 0.0   \n",
       "2              0.0              0.0                 0.0                 0.0   \n",
       "3              0.0              0.0                 0.0                 0.0   \n",
       "4              0.0              0.0                 0.0                 0.0   \n",
       "\n",
       "   LeftToeBaseEnd.Z.1  Hips.Pos.X.1  Hips.Pos.Y.1  Hips.Pos.Z.1  Sentiment.1  \n",
       "0                 0.0     -0.001771        0.0021     -0.005172            1  \n",
       "1                 0.0     -0.004336        0.0034     -0.008922            1  \n",
       "2                 0.0     -0.003222       -0.0063     -0.004647            1  \n",
       "3                 0.0     -0.002597       -0.0015     -0.008847            1  \n",
       "4                 0.0      0.001094        0.0049     -0.001354            1  \n",
       "\n",
       "[5 rows x 412 columns]"
      ]
     },
     "execution_count": 22,
     "metadata": {},
     "output_type": "execute_result"
    }
   ],
   "source": [
    "#Let's check how the data is distributed\n",
    "data = raw_data.copy()\n",
    "data.head()"
   ]
  },
  {
   "cell_type": "code",
   "execution_count": 23,
   "metadata": {},
   "outputs": [
    {
     "name": "stdout",
     "output_type": "stream",
     "text": [
      "<class 'pandas.core.frame.DataFrame'>\n",
      "RangeIndex: 114103 entries, 0 to 114102\n",
      "Columns: 412 entries, Time to Sentiment.1\n",
      "dtypes: float64(410), int64(2)\n",
      "memory usage: 358.7 MB\n"
     ]
    }
   ],
   "source": [
    "#Information about the data columns\n",
    "data.info()"
   ]
  },
  {
   "cell_type": "code",
   "execution_count": 24,
   "metadata": {},
   "outputs": [
    {
     "data": {
      "text/plain": [
       "Time                  0\n",
       "Hips.X                0\n",
       "Hips.Y                0\n",
       "Hips.Z                0\n",
       "Spine.X               0\n",
       "                     ..\n",
       "LeftToeBaseEnd.Z.1    0\n",
       "Hips.Pos.X.1          0\n",
       "Hips.Pos.Y.1          0\n",
       "Hips.Pos.Z.1          0\n",
       "Sentiment.1           0\n",
       "Length: 412, dtype: int64"
      ]
     },
     "execution_count": 24,
     "metadata": {},
     "output_type": "execute_result"
    }
   ],
   "source": [
    "#checking to see if there's any null variables\n",
    "data.isnull().sum()"
   ]
  },
  {
   "cell_type": "code",
   "execution_count": 25,
   "metadata": {},
   "outputs": [],
   "source": [
    "#Preprocessing Data\n",
    "col_list = list(data.columns)\n",
    "end = [s for s in col_list if 'End' in s]\n",
    "for col in end:\n",
    "    data.pop(col)\n",
    "data.pop('Time')\n",
    "\n",
    "if('Sentiment.1' in col_list):\n",
    "    data.pop('Sentiment.1')\n",
    "\n",
    "data = data[data.Sentiment != 2]"
   ]
  },
  {
   "cell_type": "code",
   "execution_count": 26,
   "metadata": {},
   "outputs": [
    {
     "data": {
      "text/plain": [
       "array([1, 0], dtype=int64)"
      ]
     },
     "execution_count": 26,
     "metadata": {},
     "output_type": "execute_result"
    }
   ],
   "source": [
    "# listing the unique values for the wine quality\n",
    "data['Sentiment'].unique()"
   ]
  },
  {
   "cell_type": "code",
   "execution_count": 27,
   "metadata": {},
   "outputs": [],
   "source": [
    "#Now lets assign a labels to our quality variable\n",
    "label_quality = LabelEncoder()"
   ]
  },
  {
   "cell_type": "code",
   "execution_count": 28,
   "metadata": {},
   "outputs": [],
   "source": [
    "data['Sentiment'] = label_quality.fit_transform(data['Sentiment'])\n",
    "\n",
    "#Bad becomes 0 and good becomes 1 "
   ]
  },
  {
   "cell_type": "code",
   "execution_count": 29,
   "metadata": {},
   "outputs": [
    {
     "data": {
      "text/html": [
       "<div>\n",
       "<style scoped>\n",
       "    .dataframe tbody tr th:only-of-type {\n",
       "        vertical-align: middle;\n",
       "    }\n",
       "\n",
       "    .dataframe tbody tr th {\n",
       "        vertical-align: top;\n",
       "    }\n",
       "\n",
       "    .dataframe thead th {\n",
       "        text-align: right;\n",
       "    }\n",
       "</style>\n",
       "<table border=\"1\" class=\"dataframe\">\n",
       "  <thead>\n",
       "    <tr style=\"text-align: right;\">\n",
       "      <th></th>\n",
       "      <th>Hips.X</th>\n",
       "      <th>Hips.Y</th>\n",
       "      <th>Hips.Z</th>\n",
       "      <th>Spine.X</th>\n",
       "      <th>Spine.Y</th>\n",
       "      <th>Spine.Z</th>\n",
       "      <th>Spine1.X</th>\n",
       "      <th>Spine1.Y</th>\n",
       "      <th>Spine1.Z</th>\n",
       "      <th>Spine2.X</th>\n",
       "      <th>...</th>\n",
       "      <th>LeftLeg.Z.1</th>\n",
       "      <th>LeftFoot.X.1</th>\n",
       "      <th>LeftFoot.Y.1</th>\n",
       "      <th>LeftFoot.Z.1</th>\n",
       "      <th>LeftToeBase.X.1</th>\n",
       "      <th>LeftToeBase.Y.1</th>\n",
       "      <th>LeftToeBase.Z.1</th>\n",
       "      <th>Hips.Pos.X.1</th>\n",
       "      <th>Hips.Pos.Y.1</th>\n",
       "      <th>Hips.Pos.Z.1</th>\n",
       "    </tr>\n",
       "  </thead>\n",
       "  <tbody>\n",
       "    <tr>\n",
       "      <td>0</td>\n",
       "      <td>0.473493</td>\n",
       "      <td>-0.500793</td>\n",
       "      <td>-0.500888</td>\n",
       "      <td>0.035260</td>\n",
       "      <td>-0.498380</td>\n",
       "      <td>-0.000132</td>\n",
       "      <td>9.304833e-08</td>\n",
       "      <td>-1.371683e-08</td>\n",
       "      <td>0.078843</td>\n",
       "      <td>8.329556e-09</td>\n",
       "      <td>...</td>\n",
       "      <td>0.000044</td>\n",
       "      <td>-0.000699</td>\n",
       "      <td>-0.000392</td>\n",
       "      <td>0.000079</td>\n",
       "      <td>0.0</td>\n",
       "      <td>0.0</td>\n",
       "      <td>0.0</td>\n",
       "      <td>-0.001771</td>\n",
       "      <td>0.0021</td>\n",
       "      <td>-0.005172</td>\n",
       "    </tr>\n",
       "    <tr>\n",
       "      <td>1</td>\n",
       "      <td>0.473607</td>\n",
       "      <td>-0.500925</td>\n",
       "      <td>-0.500863</td>\n",
       "      <td>0.035258</td>\n",
       "      <td>-0.498338</td>\n",
       "      <td>-0.000135</td>\n",
       "      <td>-8.163667e-07</td>\n",
       "      <td>-1.313344e-06</td>\n",
       "      <td>0.078843</td>\n",
       "      <td>-9.529333e-07</td>\n",
       "      <td>...</td>\n",
       "      <td>0.003219</td>\n",
       "      <td>0.000621</td>\n",
       "      <td>0.000301</td>\n",
       "      <td>-0.001306</td>\n",
       "      <td>0.0</td>\n",
       "      <td>0.0</td>\n",
       "      <td>0.0</td>\n",
       "      <td>-0.004336</td>\n",
       "      <td>0.0034</td>\n",
       "      <td>-0.008922</td>\n",
       "    </tr>\n",
       "    <tr>\n",
       "      <td>2</td>\n",
       "      <td>0.473662</td>\n",
       "      <td>-0.501599</td>\n",
       "      <td>-0.500165</td>\n",
       "      <td>0.035264</td>\n",
       "      <td>-0.498466</td>\n",
       "      <td>-0.000165</td>\n",
       "      <td>-1.050650e-04</td>\n",
       "      <td>-1.490489e-04</td>\n",
       "      <td>0.078843</td>\n",
       "      <td>-1.116406e-04</td>\n",
       "      <td>...</td>\n",
       "      <td>-0.004454</td>\n",
       "      <td>-0.000153</td>\n",
       "      <td>-0.000030</td>\n",
       "      <td>0.001329</td>\n",
       "      <td>0.0</td>\n",
       "      <td>0.0</td>\n",
       "      <td>0.0</td>\n",
       "      <td>-0.003222</td>\n",
       "      <td>-0.0063</td>\n",
       "      <td>-0.004647</td>\n",
       "    </tr>\n",
       "    <tr>\n",
       "      <td>3</td>\n",
       "      <td>0.473804</td>\n",
       "      <td>-0.501042</td>\n",
       "      <td>-0.500806</td>\n",
       "      <td>0.035264</td>\n",
       "      <td>-0.498479</td>\n",
       "      <td>-0.000177</td>\n",
       "      <td>-1.424917e-04</td>\n",
       "      <td>-1.908206e-04</td>\n",
       "      <td>0.078843</td>\n",
       "      <td>-1.508839e-04</td>\n",
       "      <td>...</td>\n",
       "      <td>0.000019</td>\n",
       "      <td>0.000023</td>\n",
       "      <td>0.000011</td>\n",
       "      <td>-0.000042</td>\n",
       "      <td>0.0</td>\n",
       "      <td>0.0</td>\n",
       "      <td>0.0</td>\n",
       "      <td>-0.002597</td>\n",
       "      <td>-0.0015</td>\n",
       "      <td>-0.008847</td>\n",
       "    </tr>\n",
       "    <tr>\n",
       "      <td>4</td>\n",
       "      <td>0.473839</td>\n",
       "      <td>-0.501317</td>\n",
       "      <td>-0.500656</td>\n",
       "      <td>0.035263</td>\n",
       "      <td>-0.498459</td>\n",
       "      <td>-0.000209</td>\n",
       "      <td>-2.114594e-04</td>\n",
       "      <td>-2.283817e-04</td>\n",
       "      <td>0.078819</td>\n",
       "      <td>-2.214644e-04</td>\n",
       "      <td>...</td>\n",
       "      <td>0.002984</td>\n",
       "      <td>-0.000092</td>\n",
       "      <td>-0.000095</td>\n",
       "      <td>-0.001097</td>\n",
       "      <td>0.0</td>\n",
       "      <td>0.0</td>\n",
       "      <td>0.0</td>\n",
       "      <td>0.001094</td>\n",
       "      <td>0.0049</td>\n",
       "      <td>-0.001354</td>\n",
       "    </tr>\n",
       "  </tbody>\n",
       "</table>\n",
       "<p>5 rows × 332 columns</p>\n",
       "</div>"
      ],
      "text/plain": [
       "     Hips.X    Hips.Y    Hips.Z   Spine.X   Spine.Y   Spine.Z      Spine1.X  \\\n",
       "0  0.473493 -0.500793 -0.500888  0.035260 -0.498380 -0.000132  9.304833e-08   \n",
       "1  0.473607 -0.500925 -0.500863  0.035258 -0.498338 -0.000135 -8.163667e-07   \n",
       "2  0.473662 -0.501599 -0.500165  0.035264 -0.498466 -0.000165 -1.050650e-04   \n",
       "3  0.473804 -0.501042 -0.500806  0.035264 -0.498479 -0.000177 -1.424917e-04   \n",
       "4  0.473839 -0.501317 -0.500656  0.035263 -0.498459 -0.000209 -2.114594e-04   \n",
       "\n",
       "       Spine1.Y  Spine1.Z      Spine2.X  ...  LeftLeg.Z.1  LeftFoot.X.1  \\\n",
       "0 -1.371683e-08  0.078843  8.329556e-09  ...     0.000044     -0.000699   \n",
       "1 -1.313344e-06  0.078843 -9.529333e-07  ...     0.003219      0.000621   \n",
       "2 -1.490489e-04  0.078843 -1.116406e-04  ...    -0.004454     -0.000153   \n",
       "3 -1.908206e-04  0.078843 -1.508839e-04  ...     0.000019      0.000023   \n",
       "4 -2.283817e-04  0.078819 -2.214644e-04  ...     0.002984     -0.000092   \n",
       "\n",
       "   LeftFoot.Y.1  LeftFoot.Z.1  LeftToeBase.X.1  LeftToeBase.Y.1  \\\n",
       "0     -0.000392      0.000079              0.0              0.0   \n",
       "1      0.000301     -0.001306              0.0              0.0   \n",
       "2     -0.000030      0.001329              0.0              0.0   \n",
       "3      0.000011     -0.000042              0.0              0.0   \n",
       "4     -0.000095     -0.001097              0.0              0.0   \n",
       "\n",
       "   LeftToeBase.Z.1  Hips.Pos.X.1  Hips.Pos.Y.1  Hips.Pos.Z.1  \n",
       "0              0.0     -0.001771        0.0021     -0.005172  \n",
       "1              0.0     -0.004336        0.0034     -0.008922  \n",
       "2              0.0     -0.003222       -0.0063     -0.004647  \n",
       "3              0.0     -0.002597       -0.0015     -0.008847  \n",
       "4              0.0      0.001094        0.0049     -0.001354  \n",
       "\n",
       "[5 rows x 332 columns]"
      ]
     },
     "execution_count": 29,
     "metadata": {},
     "output_type": "execute_result"
    }
   ],
   "source": [
    "data.head()"
   ]
  },
  {
   "cell_type": "code",
   "execution_count": 30,
   "metadata": {},
   "outputs": [
    {
     "data": {
      "text/plain": [
       "0    56127\n",
       "1    38857\n",
       "Name: Sentiment, dtype: int64"
      ]
     },
     "execution_count": 30,
     "metadata": {},
     "output_type": "execute_result"
    }
   ],
   "source": [
    "data['Sentiment'].value_counts()"
   ]
  },
  {
   "cell_type": "code",
   "execution_count": 31,
   "metadata": {},
   "outputs": [
    {
     "data": {
      "text/plain": [
       "<matplotlib.axes._subplots.AxesSubplot at 0x21e6aa34208>"
      ]
     },
     "execution_count": 31,
     "metadata": {},
     "output_type": "execute_result"
    },
    {
     "data": {
      "image/png": "[encoded data removed]",
      "text/plain": [
       "<Figure size 432x288 with 1 Axes>"
      ]
     },
     "metadata": {
      "needs_background": "light"
     },
     "output_type": "display_data"
    }
   ],
   "source": [
    "sns.countplot(data['Sentiment'])"
   ]
  },
  {
   "cell_type": "code",
   "execution_count": 32,
   "metadata": {},
   "outputs": [],
   "source": [
    "#Now seperate the dataset as response variable and feature variabes\n",
    "X = data.drop('Sentiment', axis = 1)\n",
    "y = data['Sentiment']"
   ]
  },
  {
   "cell_type": "code",
   "execution_count": 33,
   "metadata": {},
   "outputs": [],
   "source": [
    "#Train and Test splitting of data \n",
    "X_train, X_test, y_train, y_test = train_test_split(X, y, test_size = 0.2, random_state = 42)"
   ]
  },
  {
   "cell_type": "code",
   "execution_count": 34,
   "metadata": {},
   "outputs": [],
   "source": [
    "#Applying Standard scaling to get optimized result\n",
    "\n",
    "sc = StandardScaler()"
   ]
  },
  {
   "cell_type": "code",
   "execution_count": 35,
   "metadata": {},
   "outputs": [],
   "source": [
    "X_train = sc.fit_transform(X_train)\n",
    "X_test = sc.fit_transform(X_test)"
   ]
  },
  {
   "cell_type": "markdown",
   "metadata": {},
   "source": [
    "# Generate Model Template"
   ]
  },
  {
   "cell_type": "code",
   "execution_count": 40,
   "metadata": {},
   "outputs": [],
   "source": [
    "from sklearn.metrics import accuracy_score\n",
    "\n",
    "def runModel(model):\n",
    "    model.fit(X_train, y_train)\n",
    "    pred = model.predict(X_test)\n",
    "    \n",
    "    #Let's see how our model performed\n",
    "    print(classification_report(y_test, pred))\n",
    "    \n",
    "    #Confusion matrix for the random forest classification\n",
    "    print(\"Confusion Matrix:\\n\"+str(confusion_matrix(y_test, pred)))\n",
    "    \n",
    "    cm = accuracy_score(y_test, pred)\n",
    "    print(\"Accuracy:\\t\"+str(cm))"
   ]
  },
  {
   "cell_type": "markdown",
   "metadata": {},
   "source": [
    "### Check Sample"
   ]
  },
  {
   "cell_type": "code",
   "execution_count": 41,
   "metadata": {},
   "outputs": [],
   "source": [
    "import random\n",
    "\n",
    "def check_sample(model):\n",
    "    index = random.randint(1,data.shape[0]) - 1\n",
    "    sample = data.iloc[index]\n",
    "    sample = sample.drop('Sentiment')\n",
    "\n",
    "    Xnew = [sample]\n",
    "    ynew = model.predict(Xnew)\n",
    "    print('The sentiment of frame with given parameters is:') \n",
    "    print(ynew)\n",
    "\n",
    "    Xnew = [sample-.35]\n",
    "    ynew = model.predict(Xnew)\n",
    "    print('The sentiment of frame with given parameters is:') \n",
    "    print(ynew)\n",
    "\n",
    "    Xnew = [sample+.35]\n",
    "    ynew = model.predict(Xnew)\n",
    "    print('The sentiment of frame with given parameters is:') \n",
    "    print(ynew)"
   ]
  },
  {
   "cell_type": "markdown",
   "metadata": {},
   "source": [
    "# Classifiers"
   ]
  },
  {
   "cell_type": "markdown",
   "metadata": {},
   "source": [
    "### Random Forest Classifier"
   ]
  },
  {
   "cell_type": "code",
   "execution_count": 42,
   "metadata": {},
   "outputs": [
    {
     "name": "stdout",
     "output_type": "stream",
     "text": [
      "              precision    recall  f1-score   support\n",
      "\n",
      "           0       1.00      1.00      1.00     11142\n",
      "           1       1.00      1.00      1.00      7855\n",
      "\n",
      "    accuracy                           1.00     18997\n",
      "   macro avg       1.00      1.00      1.00     18997\n",
      "weighted avg       1.00      1.00      1.00     18997\n",
      "\n",
      "Confusion Matrix:\n",
      "[[11142     0]\n",
      " [    0  7855]]\n",
      "Accuracy:\t1.0\n",
      "The sentiment of frame with given parameters is:\n",
      "[0]\n",
      "The sentiment of frame with given parameters is:\n",
      "[0]\n",
      "The sentiment of frame with given parameters is:\n",
      "[0]\n"
     ]
    }
   ],
   "source": [
    "from sklearn.ensemble import RandomForestClassifier\n",
    "\n",
    "rfc = RandomForestClassifier(n_estimators=200)\n",
    "runModel(rfc)\n",
    "check_sample(rfc)"
   ]
  },
  {
   "cell_type": "markdown",
   "metadata": {},
   "source": [
    "### Naive Bayes"
   ]
  },
  {
   "cell_type": "code",
   "execution_count": 43,
   "metadata": {},
   "outputs": [
    {
     "name": "stdout",
     "output_type": "stream",
     "text": [
      "              precision    recall  f1-score   support\n",
      "\n",
      "           0       0.60      1.00      0.75     11142\n",
      "           1       1.00      0.05      0.09      7855\n",
      "\n",
      "    accuracy                           0.61     18997\n",
      "   macro avg       0.80      0.52      0.42     18997\n",
      "weighted avg       0.76      0.61      0.48     18997\n",
      "\n",
      "Confusion Matrix:\n",
      "[[11142     0]\n",
      " [ 7489   366]]\n",
      "Accuracy:\t0.6057798599778913\n",
      "The sentiment of frame with given parameters is:\n",
      "[0]\n",
      "The sentiment of frame with given parameters is:\n",
      "[0]\n",
      "The sentiment of frame with given parameters is:\n",
      "[0]\n"
     ]
    }
   ],
   "source": [
    "from sklearn.naive_bayes import GaussianNB\n",
    "\n",
    "gnb = GaussianNB()\n",
    "runModel(gnb)\n",
    "check_sample(gnb)"
   ]
  },
  {
   "cell_type": "markdown",
   "metadata": {},
   "source": [
    "### Decision Tree"
   ]
  },
  {
   "cell_type": "code",
   "execution_count": 44,
   "metadata": {},
   "outputs": [
    {
     "name": "stdout",
     "output_type": "stream",
     "text": [
      "              precision    recall  f1-score   support\n",
      "\n",
      "           0       0.99      0.96      0.97     11142\n",
      "           1       0.95      0.98      0.96      7855\n",
      "\n",
      "    accuracy                           0.97     18997\n",
      "   macro avg       0.97      0.97      0.97     18997\n",
      "weighted avg       0.97      0.97      0.97     18997\n",
      "\n",
      "Confusion Matrix:\n",
      "[[10709   433]\n",
      " [  160  7695]]\n",
      "Accuracy:\t0.9687845449281466\n",
      "The sentiment of frame with given parameters is:\n",
      "[1]\n",
      "The sentiment of frame with given parameters is:\n",
      "[1]\n",
      "The sentiment of frame with given parameters is:\n",
      "[0]\n"
     ]
    }
   ],
   "source": [
    "from sklearn.tree import DecisionTreeClassifier\n",
    "\n",
    "dtc = DecisionTreeClassifier() #random_state = 0\n",
    "runModel(dtc)\n",
    "check_sample(dtc)"
   ]
  },
  {
   "cell_type": "markdown",
   "metadata": {},
   "source": [
    "### K Nearest Neighbor"
   ]
  },
  {
   "cell_type": "code",
   "execution_count": 45,
   "metadata": {},
   "outputs": [
    {
     "name": "stdout",
     "output_type": "stream",
     "text": [
      "              precision    recall  f1-score   support\n",
      "\n",
      "           0       0.99      1.00      1.00     11142\n",
      "           1       0.99      0.99      0.99      7855\n",
      "\n",
      "    accuracy                           0.99     18997\n",
      "   macro avg       0.99      0.99      0.99     18997\n",
      "weighted avg       0.99      0.99      0.99     18997\n",
      "\n",
      "Confusion Matrix:\n",
      "[[11100    42]\n",
      " [   59  7796]]\n",
      "Accuracy:\t0.9946833710585882\n",
      "The sentiment of frame with given parameters is:\n",
      "[0]\n",
      "The sentiment of frame with given parameters is:\n",
      "[0]\n",
      "The sentiment of frame with given parameters is:\n",
      "[0]\n"
     ]
    }
   ],
   "source": [
    "from sklearn.neighbors import KNeighborsClassifier\n",
    "\n",
    "knn = KNeighborsClassifier(n_neighbors = 3)\n",
    "runModel(knn)\n",
    "check_sample(knn)"
   ]
  },
  {
   "cell_type": "markdown",
   "metadata": {},
   "source": [
    "### Neural Network"
   ]
  },
  {
   "cell_type": "code",
   "execution_count": 46,
   "metadata": {},
   "outputs": [
    {
     "name": "stdout",
     "output_type": "stream",
     "text": [
      "              precision    recall  f1-score   support\n",
      "\n",
      "           0       0.90      0.81      0.85     11142\n",
      "           1       0.76      0.87      0.81      7855\n",
      "\n",
      "    accuracy                           0.83     18997\n",
      "   macro avg       0.83      0.84      0.83     18997\n",
      "weighted avg       0.84      0.83      0.84     18997\n",
      "\n",
      "Confusion Matrix:\n",
      "[[8989 2153]\n",
      " [ 998 6857]]\n",
      "Accuracy:\t0.8341317050060536\n",
      "The sentiment of frame with given parameters is:\n",
      "[0]\n",
      "The sentiment of frame with given parameters is:\n",
      "[0]\n",
      "The sentiment of frame with given parameters is:\n",
      "[0]\n"
     ]
    }
   ],
   "source": [
    "from sklearn.neural_network import MLPClassifier\n",
    "\n",
    "nnc = MLPClassifier(solver='lbfgs', alpha=1e-5,\n",
    "                    hidden_layer_sizes=(5, 2), random_state=1)\n",
    "runModel(nnc)\n",
    "check_sample(nnc)"
   ]
  },
  {
   "cell_type": "code",
   "execution_count": null,
   "metadata": {},
   "outputs": [],
   "source": []
  },
  {
   "cell_type": "code",
   "execution_count": null,
   "metadata": {},
   "outputs": [],
   "source": []
  }
 ],
 "metadata": {
  "kernelspec": {
   "display_name": "Python 3",
   "language": "python",
   "name": "python3"
  },
  "language_info": {
   "codemirror_mode": {
    "name": "ipython",
    "version": 3
   },
   "file_extension": ".py",
   "mimetype": "text/x-python",
   "name": "python",
   "nbconvert_exporter": "python",
   "pygments_lexer": "ipython3",
   "version": "3.8.5"
  }
 },
 "nbformat": 4,
 "nbformat_minor": 4
}
