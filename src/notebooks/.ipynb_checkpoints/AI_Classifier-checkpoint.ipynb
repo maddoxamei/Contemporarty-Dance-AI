{
 "cells": [
  {
   "cell_type": "code",
   "execution_count": 1,
   "metadata": {},
   "outputs": [],
   "source": [
    "#Importing required packages.\n",
    "import pandas as pd\n",
    "import seaborn as sns\n",
    "import matplotlib.pyplot as plt\n",
    "#from sklearn.linear_model import SGDClassifier\n",
    "from sklearn.metrics import confusion_matrix, classification_report\n",
    "from sklearn.preprocessing import StandardScaler, LabelEncoder\n",
    "from sklearn.model_selection import train_test_split\n",
    "%matplotlib inline"
   ]
  },
  {
   "cell_type": "code",
   "execution_count": 2,
   "metadata": {},
   "outputs": [],
   "source": [
    "#Loading dataset\n",
    "source_dir = '/Akamai/MLDance/data/CSV/Pre-Processed/Relative/'\n",
    "raw_data = pd.read_csv(source_dir+'_comprehensive_.csv')"
   ]
  },
  {
   "cell_type": "code",
   "execution_count": 3,
   "metadata": {},
   "outputs": [
    {
     "data": {
      "text/html": [
       "<div>\n",
       "<style scoped>\n",
       "    .dataframe tbody tr th:only-of-type {\n",
       "        vertical-align: middle;\n",
       "    }\n",
       "\n",
       "    .dataframe tbody tr th {\n",
       "        vertical-align: top;\n",
       "    }\n",
       "\n",
       "    .dataframe thead th {\n",
       "        text-align: right;\n",
       "    }\n",
       "</style>\n",
       "<table border=\"1\" class=\"dataframe\">\n",
       "  <thead>\n",
       "    <tr style=\"text-align: right;\">\n",
       "      <th></th>\n",
       "      <th>Time</th>\n",
       "      <th>Hips.X</th>\n",
       "      <th>Hips.Y</th>\n",
       "      <th>Hips.Z</th>\n",
       "      <th>Spine.X</th>\n",
       "      <th>Spine.Y</th>\n",
       "      <th>Spine.Z</th>\n",
       "      <th>Spine1.X</th>\n",
       "      <th>Spine1.Y</th>\n",
       "      <th>Spine1.Z</th>\n",
       "      <th>...</th>\n",
       "      <th>LeftToeBase.X</th>\n",
       "      <th>LeftToeBase.Y</th>\n",
       "      <th>LeftToeBase.Z</th>\n",
       "      <th>LeftToeBaseEnd.X</th>\n",
       "      <th>LeftToeBaseEnd.Y</th>\n",
       "      <th>LeftToeBaseEnd.Z</th>\n",
       "      <th>Hips.Pos.X</th>\n",
       "      <th>Hips.Pos.Y</th>\n",
       "      <th>Hips.Pos.Z</th>\n",
       "      <th>Sentiment</th>\n",
       "    </tr>\n",
       "  </thead>\n",
       "  <tbody>\n",
       "    <tr>\n",
       "      <th>0</th>\n",
       "      <td>0.000185</td>\n",
       "      <td>0.000031</td>\n",
       "      <td>-0.000067</td>\n",
       "      <td>-0.000003</td>\n",
       "      <td>-1.666667e-07</td>\n",
       "      <td>0.000003</td>\n",
       "      <td>1.522222e-07</td>\n",
       "      <td>-6.111111e-12</td>\n",
       "      <td>-6.888889e-12</td>\n",
       "      <td>0.000000</td>\n",
       "      <td>...</td>\n",
       "      <td>0.0</td>\n",
       "      <td>0.0</td>\n",
       "      <td>0.0</td>\n",
       "      <td>0.0</td>\n",
       "      <td>0.0</td>\n",
       "      <td>0.0</td>\n",
       "      <td>-0.001771</td>\n",
       "      <td>0.0021</td>\n",
       "      <td>-0.005172</td>\n",
       "      <td>1</td>\n",
       "    </tr>\n",
       "    <tr>\n",
       "      <th>1</th>\n",
       "      <td>0.000185</td>\n",
       "      <td>0.000114</td>\n",
       "      <td>-0.000132</td>\n",
       "      <td>0.000026</td>\n",
       "      <td>-1.944444e-06</td>\n",
       "      <td>0.000042</td>\n",
       "      <td>-3.457222e-06</td>\n",
       "      <td>-9.094150e-07</td>\n",
       "      <td>-1.299628e-06</td>\n",
       "      <td>0.000000</td>\n",
       "      <td>...</td>\n",
       "      <td>0.0</td>\n",
       "      <td>0.0</td>\n",
       "      <td>0.0</td>\n",
       "      <td>0.0</td>\n",
       "      <td>0.0</td>\n",
       "      <td>0.0</td>\n",
       "      <td>-0.004336</td>\n",
       "      <td>0.0034</td>\n",
       "      <td>-0.008922</td>\n",
       "      <td>1</td>\n",
       "    </tr>\n",
       "    <tr>\n",
       "      <th>2</th>\n",
       "      <td>0.000185</td>\n",
       "      <td>0.000055</td>\n",
       "      <td>-0.000674</td>\n",
       "      <td>0.000698</td>\n",
       "      <td>5.777778e-06</td>\n",
       "      <td>-0.000128</td>\n",
       "      <td>-3.022611e-05</td>\n",
       "      <td>-1.042486e-04</td>\n",
       "      <td>-1.477355e-04</td>\n",
       "      <td>0.000000</td>\n",
       "      <td>...</td>\n",
       "      <td>0.0</td>\n",
       "      <td>0.0</td>\n",
       "      <td>0.0</td>\n",
       "      <td>0.0</td>\n",
       "      <td>0.0</td>\n",
       "      <td>0.0</td>\n",
       "      <td>-0.003222</td>\n",
       "      <td>-0.0063</td>\n",
       "      <td>-0.004647</td>\n",
       "      <td>1</td>\n",
       "    </tr>\n",
       "    <tr>\n",
       "      <th>3</th>\n",
       "      <td>0.000185</td>\n",
       "      <td>0.000143</td>\n",
       "      <td>0.000557</td>\n",
       "      <td>-0.000641</td>\n",
       "      <td>5.555556e-07</td>\n",
       "      <td>-0.000013</td>\n",
       "      <td>-1.139667e-05</td>\n",
       "      <td>-3.742667e-05</td>\n",
       "      <td>-4.177167e-05</td>\n",
       "      <td>0.000000</td>\n",
       "      <td>...</td>\n",
       "      <td>0.0</td>\n",
       "      <td>0.0</td>\n",
       "      <td>0.0</td>\n",
       "      <td>0.0</td>\n",
       "      <td>0.0</td>\n",
       "      <td>0.0</td>\n",
       "      <td>-0.002597</td>\n",
       "      <td>-0.0015</td>\n",
       "      <td>-0.008847</td>\n",
       "      <td>1</td>\n",
       "    </tr>\n",
       "    <tr>\n",
       "      <th>4</th>\n",
       "      <td>0.000185</td>\n",
       "      <td>0.000035</td>\n",
       "      <td>-0.000274</td>\n",
       "      <td>0.000149</td>\n",
       "      <td>-8.888889e-07</td>\n",
       "      <td>0.000021</td>\n",
       "      <td>-3.242111e-05</td>\n",
       "      <td>-6.896778e-05</td>\n",
       "      <td>-3.756111e-05</td>\n",
       "      <td>-0.000023</td>\n",
       "      <td>...</td>\n",
       "      <td>0.0</td>\n",
       "      <td>0.0</td>\n",
       "      <td>0.0</td>\n",
       "      <td>0.0</td>\n",
       "      <td>0.0</td>\n",
       "      <td>0.0</td>\n",
       "      <td>0.001094</td>\n",
       "      <td>0.0049</td>\n",
       "      <td>-0.001354</td>\n",
       "      <td>1</td>\n",
       "    </tr>\n",
       "  </tbody>\n",
       "</table>\n",
       "<p>5 rows × 206 columns</p>\n",
       "</div>"
      ],
      "text/plain": [
       "       Time    Hips.X    Hips.Y    Hips.Z       Spine.X   Spine.Y  \\\n",
       "0  0.000185  0.000031 -0.000067 -0.000003 -1.666667e-07  0.000003   \n",
       "1  0.000185  0.000114 -0.000132  0.000026 -1.944444e-06  0.000042   \n",
       "2  0.000185  0.000055 -0.000674  0.000698  5.777778e-06 -0.000128   \n",
       "3  0.000185  0.000143  0.000557 -0.000641  5.555556e-07 -0.000013   \n",
       "4  0.000185  0.000035 -0.000274  0.000149 -8.888889e-07  0.000021   \n",
       "\n",
       "        Spine.Z      Spine1.X      Spine1.Y  Spine1.Z  ...  LeftToeBase.X  \\\n",
       "0  1.522222e-07 -6.111111e-12 -6.888889e-12  0.000000  ...            0.0   \n",
       "1 -3.457222e-06 -9.094150e-07 -1.299628e-06  0.000000  ...            0.0   \n",
       "2 -3.022611e-05 -1.042486e-04 -1.477355e-04  0.000000  ...            0.0   \n",
       "3 -1.139667e-05 -3.742667e-05 -4.177167e-05  0.000000  ...            0.0   \n",
       "4 -3.242111e-05 -6.896778e-05 -3.756111e-05 -0.000023  ...            0.0   \n",
       "\n",
       "   LeftToeBase.Y  LeftToeBase.Z  LeftToeBaseEnd.X  LeftToeBaseEnd.Y  \\\n",
       "0            0.0            0.0               0.0               0.0   \n",
       "1            0.0            0.0               0.0               0.0   \n",
       "2            0.0            0.0               0.0               0.0   \n",
       "3            0.0            0.0               0.0               0.0   \n",
       "4            0.0            0.0               0.0               0.0   \n",
       "\n",
       "   LeftToeBaseEnd.Z  Hips.Pos.X  Hips.Pos.Y  Hips.Pos.Z  Sentiment  \n",
       "0               0.0   -0.001771      0.0021   -0.005172          1  \n",
       "1               0.0   -0.004336      0.0034   -0.008922          1  \n",
       "2               0.0   -0.003222     -0.0063   -0.004647          1  \n",
       "3               0.0   -0.002597     -0.0015   -0.008847          1  \n",
       "4               0.0    0.001094      0.0049   -0.001354          1  \n",
       "\n",
       "[5 rows x 206 columns]"
      ]
     },
     "execution_count": 3,
     "metadata": {},
     "output_type": "execute_result"
    }
   ],
   "source": [
    "#Let's check how the data is distributed\n",
    "data = raw_data.copy()\n",
    "data.head()"
   ]
  },
  {
   "cell_type": "code",
   "execution_count": 4,
   "metadata": {},
   "outputs": [
    {
     "name": "stdout",
     "output_type": "stream",
     "text": [
      "<class 'pandas.core.frame.DataFrame'>\n",
      "RangeIndex: 114103 entries, 0 to 114102\n",
      "Columns: 206 entries, Time to Sentiment\n",
      "dtypes: float64(205), int64(1)\n",
      "memory usage: 179.3 MB\n"
     ]
    }
   ],
   "source": [
    "#Information about the data columns\n",
    "data.info()"
   ]
  },
  {
   "cell_type": "code",
   "execution_count": 5,
   "metadata": {},
   "outputs": [
    {
     "data": {
      "text/plain": [
       "Time                 0\n",
       "Hips.X               0\n",
       "Hips.Y               0\n",
       "Hips.Z               0\n",
       "Spine.X              0\n",
       "Spine.Y              0\n",
       "Spine.Z              0\n",
       "Spine1.X             0\n",
       "Spine1.Y             0\n",
       "Spine1.Z             0\n",
       "Spine2.X             0\n",
       "Spine2.Y             0\n",
       "Spine2.Z             0\n",
       "Spine3.X             0\n",
       "Spine3.Y             0\n",
       "Spine3.Z             0\n",
       "Spine4.X             0\n",
       "Spine4.Y             0\n",
       "Spine4.Z             0\n",
       "Neck.X               0\n",
       "Neck.Y               0\n",
       "Neck.Z               0\n",
       "Head.X               0\n",
       "Head.Y               0\n",
       "Head.Z               0\n",
       "HeadEnd.X            0\n",
       "HeadEnd.Y            0\n",
       "HeadEnd.Z            0\n",
       "LeftShoulder.X       0\n",
       "LeftShoulder.Y       0\n",
       "                    ..\n",
       "RightLeg.Y           0\n",
       "RightLeg.Z           0\n",
       "RightFoot.X          0\n",
       "RightFoot.Y          0\n",
       "RightFoot.Z          0\n",
       "RightToeBase.X       0\n",
       "RightToeBase.Y       0\n",
       "RightToeBase.Z       0\n",
       "RightToeBaseEnd.X    0\n",
       "RightToeBaseEnd.Y    0\n",
       "RightToeBaseEnd.Z    0\n",
       "LeftUpLeg.X          0\n",
       "LeftUpLeg.Y          0\n",
       "LeftUpLeg.Z          0\n",
       "LeftLeg.X            0\n",
       "LeftLeg.Y            0\n",
       "LeftLeg.Z            0\n",
       "LeftFoot.X           0\n",
       "LeftFoot.Y           0\n",
       "LeftFoot.Z           0\n",
       "LeftToeBase.X        0\n",
       "LeftToeBase.Y        0\n",
       "LeftToeBase.Z        0\n",
       "LeftToeBaseEnd.X     0\n",
       "LeftToeBaseEnd.Y     0\n",
       "LeftToeBaseEnd.Z     0\n",
       "Hips.Pos.X           0\n",
       "Hips.Pos.Y           0\n",
       "Hips.Pos.Z           0\n",
       "Sentiment            0\n",
       "Length: 206, dtype: int64"
      ]
     },
     "execution_count": 5,
     "metadata": {},
     "output_type": "execute_result"
    }
   ],
   "source": [
    "#checking to see if there's any null variables\n",
    "data.isnull().sum()"
   ]
  },
  {
   "cell_type": "code",
   "execution_count": 6,
   "metadata": {},
   "outputs": [],
   "source": [
    "#Preprocessing Data\n",
    "col_list = list(data.columns)\n",
    "end = [s for s in col_list if 'End' in s]\n",
    "for col in end:\n",
    "    data.pop(col)\n",
    "data.pop('Time')\n",
    "\n",
    "data = data[data.Sentiment != 2]"
   ]
  },
  {
   "cell_type": "code",
   "execution_count": 7,
   "metadata": {},
   "outputs": [
    {
     "data": {
      "text/plain": [
       "array([1, 0])"
      ]
     },
     "execution_count": 7,
     "metadata": {},
     "output_type": "execute_result"
    }
   ],
   "source": [
    "# listing the unique values for the wine quality\n",
    "data['Sentiment'].unique()"
   ]
  },
  {
   "cell_type": "code",
   "execution_count": 8,
   "metadata": {},
   "outputs": [],
   "source": [
    "#Now lets assign a labels to our quality variable\n",
    "label_quality = LabelEncoder()"
   ]
  },
  {
   "cell_type": "code",
   "execution_count": 9,
   "metadata": {},
   "outputs": [],
   "source": [
    "data['Sentiment'] = label_quality.fit_transform(data['Sentiment'])\n",
    "\n",
    "#Bad becomes 0 and good becomes 1 "
   ]
  },
  {
   "cell_type": "code",
   "execution_count": 10,
   "metadata": {},
   "outputs": [
    {
     "data": {
      "text/html": [
       "<div>\n",
       "<style scoped>\n",
       "    .dataframe tbody tr th:only-of-type {\n",
       "        vertical-align: middle;\n",
       "    }\n",
       "\n",
       "    .dataframe tbody tr th {\n",
       "        vertical-align: top;\n",
       "    }\n",
       "\n",
       "    .dataframe thead th {\n",
       "        text-align: right;\n",
       "    }\n",
       "</style>\n",
       "<table border=\"1\" class=\"dataframe\">\n",
       "  <thead>\n",
       "    <tr style=\"text-align: right;\">\n",
       "      <th></th>\n",
       "      <th>Hips.X</th>\n",
       "      <th>Hips.Y</th>\n",
       "      <th>Hips.Z</th>\n",
       "      <th>Spine.X</th>\n",
       "      <th>Spine.Y</th>\n",
       "      <th>Spine.Z</th>\n",
       "      <th>Spine1.X</th>\n",
       "      <th>Spine1.Y</th>\n",
       "      <th>Spine1.Z</th>\n",
       "      <th>Spine2.X</th>\n",
       "      <th>...</th>\n",
       "      <th>LeftFoot.X</th>\n",
       "      <th>LeftFoot.Y</th>\n",
       "      <th>LeftFoot.Z</th>\n",
       "      <th>LeftToeBase.X</th>\n",
       "      <th>LeftToeBase.Y</th>\n",
       "      <th>LeftToeBase.Z</th>\n",
       "      <th>Hips.Pos.X</th>\n",
       "      <th>Hips.Pos.Y</th>\n",
       "      <th>Hips.Pos.Z</th>\n",
       "      <th>Sentiment</th>\n",
       "    </tr>\n",
       "  </thead>\n",
       "  <tbody>\n",
       "    <tr>\n",
       "      <th>0</th>\n",
       "      <td>0.000031</td>\n",
       "      <td>-0.000067</td>\n",
       "      <td>-0.000003</td>\n",
       "      <td>-1.666667e-07</td>\n",
       "      <td>0.000003</td>\n",
       "      <td>1.522222e-07</td>\n",
       "      <td>-6.111111e-12</td>\n",
       "      <td>-6.888889e-12</td>\n",
       "      <td>0.000000</td>\n",
       "      <td>-5.333333e-12</td>\n",
       "      <td>...</td>\n",
       "      <td>-0.000699</td>\n",
       "      <td>-0.000392</td>\n",
       "      <td>0.000079</td>\n",
       "      <td>0.0</td>\n",
       "      <td>0.0</td>\n",
       "      <td>0.0</td>\n",
       "      <td>-0.001771</td>\n",
       "      <td>0.0021</td>\n",
       "      <td>-0.005172</td>\n",
       "      <td>1</td>\n",
       "    </tr>\n",
       "    <tr>\n",
       "      <th>1</th>\n",
       "      <td>0.000114</td>\n",
       "      <td>-0.000132</td>\n",
       "      <td>0.000026</td>\n",
       "      <td>-1.944444e-06</td>\n",
       "      <td>0.000042</td>\n",
       "      <td>-3.457222e-06</td>\n",
       "      <td>-9.094150e-07</td>\n",
       "      <td>-1.299628e-06</td>\n",
       "      <td>0.000000</td>\n",
       "      <td>-9.612629e-07</td>\n",
       "      <td>...</td>\n",
       "      <td>0.000621</td>\n",
       "      <td>0.000301</td>\n",
       "      <td>-0.001306</td>\n",
       "      <td>0.0</td>\n",
       "      <td>0.0</td>\n",
       "      <td>0.0</td>\n",
       "      <td>-0.004336</td>\n",
       "      <td>0.0034</td>\n",
       "      <td>-0.008922</td>\n",
       "      <td>1</td>\n",
       "    </tr>\n",
       "    <tr>\n",
       "      <th>2</th>\n",
       "      <td>0.000055</td>\n",
       "      <td>-0.000674</td>\n",
       "      <td>0.000698</td>\n",
       "      <td>5.777778e-06</td>\n",
       "      <td>-0.000128</td>\n",
       "      <td>-3.022611e-05</td>\n",
       "      <td>-1.042486e-04</td>\n",
       "      <td>-1.477355e-04</td>\n",
       "      <td>0.000000</td>\n",
       "      <td>-1.106876e-04</td>\n",
       "      <td>...</td>\n",
       "      <td>-0.000153</td>\n",
       "      <td>-0.000030</td>\n",
       "      <td>0.001329</td>\n",
       "      <td>0.0</td>\n",
       "      <td>0.0</td>\n",
       "      <td>0.0</td>\n",
       "      <td>-0.003222</td>\n",
       "      <td>-0.0063</td>\n",
       "      <td>-0.004647</td>\n",
       "      <td>1</td>\n",
       "    </tr>\n",
       "    <tr>\n",
       "      <th>3</th>\n",
       "      <td>0.000143</td>\n",
       "      <td>0.000557</td>\n",
       "      <td>-0.000641</td>\n",
       "      <td>5.555556e-07</td>\n",
       "      <td>-0.000013</td>\n",
       "      <td>-1.139667e-05</td>\n",
       "      <td>-3.742667e-05</td>\n",
       "      <td>-4.177167e-05</td>\n",
       "      <td>0.000000</td>\n",
       "      <td>-3.924333e-05</td>\n",
       "      <td>...</td>\n",
       "      <td>0.000023</td>\n",
       "      <td>0.000011</td>\n",
       "      <td>-0.000042</td>\n",
       "      <td>0.0</td>\n",
       "      <td>0.0</td>\n",
       "      <td>0.0</td>\n",
       "      <td>-0.002597</td>\n",
       "      <td>-0.0015</td>\n",
       "      <td>-0.008847</td>\n",
       "      <td>1</td>\n",
       "    </tr>\n",
       "    <tr>\n",
       "      <th>4</th>\n",
       "      <td>0.000035</td>\n",
       "      <td>-0.000274</td>\n",
       "      <td>0.000149</td>\n",
       "      <td>-8.888889e-07</td>\n",
       "      <td>0.000021</td>\n",
       "      <td>-3.242111e-05</td>\n",
       "      <td>-6.896778e-05</td>\n",
       "      <td>-3.756111e-05</td>\n",
       "      <td>-0.000023</td>\n",
       "      <td>-7.058056e-05</td>\n",
       "      <td>...</td>\n",
       "      <td>-0.000092</td>\n",
       "      <td>-0.000095</td>\n",
       "      <td>-0.001097</td>\n",
       "      <td>0.0</td>\n",
       "      <td>0.0</td>\n",
       "      <td>0.0</td>\n",
       "      <td>0.001094</td>\n",
       "      <td>0.0049</td>\n",
       "      <td>-0.001354</td>\n",
       "      <td>1</td>\n",
       "    </tr>\n",
       "  </tbody>\n",
       "</table>\n",
       "<p>5 rows × 166 columns</p>\n",
       "</div>"
      ],
      "text/plain": [
       "     Hips.X    Hips.Y    Hips.Z       Spine.X   Spine.Y       Spine.Z  \\\n",
       "0  0.000031 -0.000067 -0.000003 -1.666667e-07  0.000003  1.522222e-07   \n",
       "1  0.000114 -0.000132  0.000026 -1.944444e-06  0.000042 -3.457222e-06   \n",
       "2  0.000055 -0.000674  0.000698  5.777778e-06 -0.000128 -3.022611e-05   \n",
       "3  0.000143  0.000557 -0.000641  5.555556e-07 -0.000013 -1.139667e-05   \n",
       "4  0.000035 -0.000274  0.000149 -8.888889e-07  0.000021 -3.242111e-05   \n",
       "\n",
       "       Spine1.X      Spine1.Y  Spine1.Z      Spine2.X  ...  LeftFoot.X  \\\n",
       "0 -6.111111e-12 -6.888889e-12  0.000000 -5.333333e-12  ...   -0.000699   \n",
       "1 -9.094150e-07 -1.299628e-06  0.000000 -9.612629e-07  ...    0.000621   \n",
       "2 -1.042486e-04 -1.477355e-04  0.000000 -1.106876e-04  ...   -0.000153   \n",
       "3 -3.742667e-05 -4.177167e-05  0.000000 -3.924333e-05  ...    0.000023   \n",
       "4 -6.896778e-05 -3.756111e-05 -0.000023 -7.058056e-05  ...   -0.000092   \n",
       "\n",
       "   LeftFoot.Y  LeftFoot.Z  LeftToeBase.X  LeftToeBase.Y  LeftToeBase.Z  \\\n",
       "0   -0.000392    0.000079            0.0            0.0            0.0   \n",
       "1    0.000301   -0.001306            0.0            0.0            0.0   \n",
       "2   -0.000030    0.001329            0.0            0.0            0.0   \n",
       "3    0.000011   -0.000042            0.0            0.0            0.0   \n",
       "4   -0.000095   -0.001097            0.0            0.0            0.0   \n",
       "\n",
       "   Hips.Pos.X  Hips.Pos.Y  Hips.Pos.Z  Sentiment  \n",
       "0   -0.001771      0.0021   -0.005172          1  \n",
       "1   -0.004336      0.0034   -0.008922          1  \n",
       "2   -0.003222     -0.0063   -0.004647          1  \n",
       "3   -0.002597     -0.0015   -0.008847          1  \n",
       "4    0.001094      0.0049   -0.001354          1  \n",
       "\n",
       "[5 rows x 166 columns]"
      ]
     },
     "execution_count": 10,
     "metadata": {},
     "output_type": "execute_result"
    }
   ],
   "source": [
    "data.head()"
   ]
  },
  {
   "cell_type": "code",
   "execution_count": 11,
   "metadata": {},
   "outputs": [
    {
     "data": {
      "text/plain": [
       "0    56127\n",
       "1    38857\n",
       "Name: Sentiment, dtype: int64"
      ]
     },
     "execution_count": 11,
     "metadata": {},
     "output_type": "execute_result"
    }
   ],
   "source": [
    "data['Sentiment'].value_counts()"
   ]
  },
  {
   "cell_type": "code",
   "execution_count": 12,
   "metadata": {},
   "outputs": [
    {
     "data": {
      "text/plain": [
       "<matplotlib.axes._subplots.AxesSubplot at 0x7fe268762240>"
      ]
     },
     "execution_count": 12,
     "metadata": {},
     "output_type": "execute_result"
    },
    {
     "data": {
      "image/png": "[encoded data removed]",
      "text/plain": [
       "<Figure size 432x288 with 1 Axes>"
      ]
     },
     "metadata": {},
     "output_type": "display_data"
    }
   ],
   "source": [
    "sns.countplot(data['Sentiment'])"
   ]
  },
  {
   "cell_type": "code",
   "execution_count": 13,
   "metadata": {},
   "outputs": [],
   "source": [
    "#Now seperate the dataset as response variable and feature variabes\n",
    "X = data.drop('Sentiment', axis = 1)\n",
    "y = data['Sentiment']"
   ]
  },
  {
   "cell_type": "code",
   "execution_count": 14,
   "metadata": {},
   "outputs": [],
   "source": [
    "#Train and Test splitting of data \n",
    "X_train, X_test, y_train, y_test = train_test_split(X, y, test_size = 0.2, random_state = 42)"
   ]
  },
  {
   "cell_type": "code",
   "execution_count": 15,
   "metadata": {},
   "outputs": [],
   "source": [
    "#Applying Standard scaling to get optimized result\n",
    "\n",
    "sc = StandardScaler()"
   ]
  },
  {
   "cell_type": "code",
   "execution_count": 16,
   "metadata": {},
   "outputs": [],
   "source": [
    "X_train = sc.fit_transform(X_train)\n",
    "X_test = sc.fit_transform(X_test)"
   ]
  },
  {
   "cell_type": "markdown",
   "metadata": {},
   "source": [
    "# Generate Model Template"
   ]
  },
  {
   "cell_type": "code",
   "execution_count": 17,
   "metadata": {},
   "outputs": [],
   "source": [
    "from sklearn.metrics import accuracy_score\n",
    "\n",
    "def runModel(model):\n",
    "    model.fit(X_train, y_train)\n",
    "    pred = model.predict(X_test)\n",
    "    \n",
    "    #Let's see how our model performed\n",
    "    print(classification_report(y_test, pred))\n",
    "    \n",
    "    #Confusion matrix for the random forest classification\n",
    "    print(\"Confusion Matrix:\\n\"+str(confusion_matrix(y_test, pred)))\n",
    "    \n",
    "    cm = accuracy_score(y_test, pred)\n",
    "    print(\"Accuracy:\\t\"+str(cm))"
   ]
  },
  {
   "cell_type": "markdown",
   "metadata": {},
   "source": [
    "### Check Sample"
   ]
  },
  {
   "cell_type": "code",
   "execution_count": 18,
   "metadata": {},
   "outputs": [],
   "source": [
    "import random\n",
    "\n",
    "def check_sample(model):\n",
    "    index = random.randint(1,data.shape[0]) - 1\n",
    "    sample = data.iloc[index]\n",
    "    sample = sample.drop('Sentiment')\n",
    "\n",
    "    Xnew = [sample]\n",
    "    ynew = model.predict(Xnew)\n",
    "    print('The sentiment of frame with given parameters is:') \n",
    "    print(ynew)\n",
    "\n",
    "    Xnew = [sample-.35]\n",
    "    ynew = model.predict(Xnew)\n",
    "    print('The sentiment of frame with given parameters is:') \n",
    "    print(ynew)\n",
    "\n",
    "    Xnew = [sample+.35]\n",
    "    ynew = model.predict(Xnew)\n",
    "    print('The sentiment of frame with given parameters is:') \n",
    "    print(ynew)"
   ]
  },
  {
   "cell_type": "markdown",
   "metadata": {},
   "source": [
    "# Classifiers"
   ]
  },
  {
   "cell_type": "markdown",
   "metadata": {},
   "source": [
    "### Random Forest Classifier"
   ]
  },
  {
   "cell_type": "code",
   "execution_count": 19,
   "metadata": {},
   "outputs": [
    {
     "name": "stdout",
     "output_type": "stream",
     "text": [
      "              precision    recall  f1-score   support\n",
      "\n",
      "           0       0.74      0.90      0.81     11142\n",
      "           1       0.79      0.55      0.65      7855\n",
      "\n",
      "    accuracy                           0.75     18997\n",
      "   macro avg       0.76      0.72      0.73     18997\n",
      "weighted avg       0.76      0.75      0.74     18997\n",
      "\n",
      "Confusion Matrix:\n",
      "[[9976 1166]\n",
      " [3520 4335]]\n",
      "Accuracy:\t0.753329473074696\n",
      "The sentiment of frame with given parameters is:\n",
      "[0]\n",
      "The sentiment of frame with given parameters is:\n",
      "[0]\n",
      "The sentiment of frame with given parameters is:\n",
      "[0]\n"
     ]
    }
   ],
   "source": [
    "from sklearn.ensemble import RandomForestClassifier\n",
    "\n",
    "rfc = RandomForestClassifier(n_estimators=200)\n",
    "runModel(rfc)\n",
    "check_sample(rfc)"
   ]
  },
  {
   "cell_type": "markdown",
   "metadata": {},
   "source": [
    "### Naive Bayes"
   ]
  },
  {
   "cell_type": "code",
   "execution_count": 20,
   "metadata": {},
   "outputs": [
    {
     "name": "stdout",
     "output_type": "stream",
     "text": [
      "              precision    recall  f1-score   support\n",
      "\n",
      "           0       0.59      1.00      0.74     11142\n",
      "           1       1.00      0.01      0.02      7855\n",
      "\n",
      "    accuracy                           0.59     18997\n",
      "   macro avg       0.79      0.51      0.38     18997\n",
      "weighted avg       0.76      0.59      0.44     18997\n",
      "\n",
      "Confusion Matrix:\n",
      "[[11142     0]\n",
      " [ 7760    95]]\n",
      "Accuracy:\t0.5915144496499447\n",
      "The sentiment of frame with given parameters is:\n",
      "[0]\n",
      "The sentiment of frame with given parameters is:\n",
      "[0]\n",
      "The sentiment of frame with given parameters is:\n",
      "[0]\n"
     ]
    }
   ],
   "source": [
    "from sklearn.naive_bayes import GaussianNB\n",
    "\n",
    "gnb = GaussianNB()\n",
    "runModel(gnb)\n",
    "check_sample(gnb)"
   ]
  },
  {
   "cell_type": "markdown",
   "metadata": {},
   "source": [
    "### Decision Tree"
   ]
  },
  {
   "cell_type": "code",
   "execution_count": 21,
   "metadata": {},
   "outputs": [
    {
     "name": "stdout",
     "output_type": "stream",
     "text": [
      "              precision    recall  f1-score   support\n",
      "\n",
      "           0       0.69      0.72      0.71     11142\n",
      "           1       0.58      0.55      0.56      7855\n",
      "\n",
      "    accuracy                           0.65     18997\n",
      "   macro avg       0.64      0.63      0.64     18997\n",
      "weighted avg       0.65      0.65      0.65     18997\n",
      "\n",
      "Confusion Matrix:\n",
      "[[8030 3112]\n",
      " [3554 4301]]\n",
      "Accuracy:\t0.6491024898668211\n",
      "The sentiment of frame with given parameters is:\n",
      "[0]\n",
      "The sentiment of frame with given parameters is:\n",
      "[0]\n",
      "The sentiment of frame with given parameters is:\n",
      "[0]\n"
     ]
    }
   ],
   "source": [
    "from sklearn.tree import DecisionTreeClassifier\n",
    "\n",
    "dtc = DecisionTreeClassifier() #random_state = 0\n",
    "runModel(dtc)\n",
    "check_sample(dtc)"
   ]
  },
  {
   "cell_type": "markdown",
   "metadata": {},
   "source": [
    "### K Nearest Neighbor"
   ]
  },
  {
   "cell_type": "code",
   "execution_count": 22,
   "metadata": {},
   "outputs": [
    {
     "name": "stdout",
     "output_type": "stream",
     "text": [
      "              precision    recall  f1-score   support\n",
      "\n",
      "           0       0.77      0.86      0.82     11142\n",
      "           1       0.77      0.64      0.70      7855\n",
      "\n",
      "    accuracy                           0.77     18997\n",
      "   macro avg       0.77      0.75      0.76     18997\n",
      "weighted avg       0.77      0.77      0.77     18997\n",
      "\n",
      "Confusion Matrix:\n",
      "[[9629 1513]\n",
      " [2818 5037]]\n",
      "Accuracy:\t0.7720166342054009\n",
      "The sentiment of frame with given parameters is:\n",
      "[1]\n",
      "The sentiment of frame with given parameters is:\n",
      "[0]\n",
      "The sentiment of frame with given parameters is:\n",
      "[0]\n"
     ]
    }
   ],
   "source": [
    "from sklearn.neighbors import KNeighborsClassifier\n",
    "\n",
    "knn = KNeighborsClassifier(n_neighbors = 3)\n",
    "runModel(knn)\n",
    "check_sample(knn)"
   ]
  },
  {
   "cell_type": "markdown",
   "metadata": {},
   "source": [
    "### Neural Network"
   ]
  },
  {
   "cell_type": "code",
   "execution_count": 23,
   "metadata": {},
   "outputs": [
    {
     "name": "stdout",
     "output_type": "stream",
     "text": [
      "              precision    recall  f1-score   support\n",
      "\n",
      "           0       0.62      0.92      0.74     11142\n",
      "           1       0.65      0.21      0.32      7855\n",
      "\n",
      "    accuracy                           0.63     18997\n",
      "   macro avg       0.64      0.56      0.53     18997\n",
      "weighted avg       0.63      0.63      0.57     18997\n",
      "\n",
      "Confusion Matrix:\n",
      "[[10251   891]\n",
      " [ 6212  1643]]\n",
      "Accuracy:\t0.6260988577143759\n",
      "The sentiment of frame with given parameters is:\n",
      "[0]\n",
      "The sentiment of frame with given parameters is:\n",
      "[0]\n",
      "The sentiment of frame with given parameters is:\n",
      "[0]\n"
     ]
    }
   ],
   "source": [
    "from sklearn.neural_network import MLPClassifier\n",
    "\n",
    "nnc = MLPClassifier(solver='lbfgs', alpha=1e-5,\n",
    "                    hidden_layer_sizes=(5, 2), random_state=1)\n",
    "runModel(nnc)\n",
    "check_sample(nnc)"
   ]
  },
  {
   "cell_type": "code",
   "execution_count": null,
   "metadata": {},
   "outputs": [],
   "source": []
  },
  {
   "cell_type": "code",
   "execution_count": null,
   "metadata": {},
   "outputs": [],
   "source": []
  }
 ],
 "metadata": {
  "kernelspec": {
   "display_name": "Python 3",
   "language": "python",
   "name": "python3"
  },
  "language_info": {
   "codemirror_mode": {
    "name": "ipython",
    "version": 3
   },
   "file_extension": ".py",
   "mimetype": "text/x-python",
   "name": "python",
   "nbconvert_exporter": "python",
   "pygments_lexer": "ipython3",
   "version": "3.5.2"
  }
 },
 "nbformat": 4,
 "nbformat_minor": 2
}
